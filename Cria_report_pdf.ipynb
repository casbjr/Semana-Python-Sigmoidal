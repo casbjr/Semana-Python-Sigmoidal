{
  "nbformat": 4,
  "nbformat_minor": 0,
  "metadata": {
    "colab": {
      "name": "Cria report pdf",
      "provenance": [],
      "authorship_tag": "ABX9TyNsx2mLrC/AfcGx07RbEyef",
      "include_colab_link": true
    },
    "kernelspec": {
      "name": "python3",
      "display_name": "Python 3"
    }
  },
  "cells": [
    {
      "cell_type": "markdown",
      "metadata": {
        "id": "view-in-github",
        "colab_type": "text"
      },
      "source": [
        "<a href=\"https://colab.research.google.com/github/casbjr/Semana-Python-Sigmoidal/blob/master/Cria_report_pdf.ipynb\" target=\"_parent\"><img src=\"https://colab.research.google.com/assets/colab-badge.svg\" alt=\"Open In Colab\"/></a>"
      ]
    },
    {
      "cell_type": "markdown",
      "metadata": {
        "id": "UvRrkgohggsL",
        "colab_type": "text"
      },
      "source": [
        "#Semana Python - Sigmoidal\n",
        "\n",
        "Semana gratuita de aulas do blog Sigmoidal (Carlos Melo). Durante a terceira aula, é ensinado como gerar um report em PDF com base em um arquivo excel que seria recebido diariamente.\n",
        "\n",
        "Para garantir o acesso ao dataset posteriormente, todos os arquivos foram salvos no diretório do Github."
      ]
    },
    {
      "cell_type": "code",
      "metadata": {
        "id": "-pd0T32XE7KH",
        "colab_type": "code",
        "colab": {
          "base_uri": "https://localhost:8080/",
          "height": 153
        },
        "outputId": "7858f3c4-e489-4bed-f632-e0abe233c53b"
      },
      "source": [
        "!pip install pdf_reports -q"
      ],
      "execution_count": null,
      "outputs": [
        {
          "output_type": "stream",
          "text": [
            "\u001b[K     |████████████████████████████████| 122kB 2.7MB/s \n",
            "\u001b[K     |████████████████████████████████| 368kB 8.8MB/s \n",
            "\u001b[K     |████████████████████████████████| 3.0MB 7.9MB/s \n",
            "\u001b[K     |████████████████████████████████| 71kB 8.0MB/s \n",
            "\u001b[K     |████████████████████████████████| 71kB 7.7MB/s \n",
            "\u001b[K     |████████████████████████████████| 51kB 6.3MB/s \n",
            "\u001b[?25h  Building wheel for pdf-reports (setup.py) ... \u001b[?25l\u001b[?25hdone\n",
            "  Building wheel for cairocffi (setup.py) ... \u001b[?25l\u001b[?25hdone\n"
          ],
          "name": "stdout"
        }
      ]
    },
    {
      "cell_type": "code",
      "metadata": {
        "id": "0k4DmgkECbDg",
        "colab_type": "code",
        "colab": {}
      },
      "source": [
        "import pandas as pd\n",
        "from datetime import datetime\n",
        "from pdf_reports import pug_to_html, write_report"
      ],
      "execution_count": null,
      "outputs": []
    },
    {
      "cell_type": "code",
      "metadata": {
        "id": "IF4X2UkoC33Y",
        "colab_type": "code",
        "colab": {}
      },
      "source": [
        "# método aula: planilha = pd.read_excel('/content/controle_de_abacates.xlsx')\n",
        "# incluir o decimal para evitar problemas com comma\n",
        "planilha = pd.read_csv('https://raw.githubusercontent.com/casbjr/Semana-Python-Sigmoidal/master/Semana%20Python/controle_de_abacates.csv', sep=';',decimal=',')"
      ],
      "execution_count": null,
      "outputs": []
    },
    {
      "cell_type": "code",
      "metadata": {
        "id": "MyuNdvZhFxCS",
        "colab_type": "code",
        "colab": {
          "base_uri": "https://localhost:8080/",
          "height": 197
        },
        "outputId": "c3ebe1de-d1c9-4bf2-86ee-45dbc6cbcf0f"
      },
      "source": [
        "planilha.head(5)"
      ],
      "execution_count": null,
      "outputs": [
        {
          "output_type": "execute_result",
          "data": {
            "text/html": [
              "<div>\n",
              "<style scoped>\n",
              "    .dataframe tbody tr th:only-of-type {\n",
              "        vertical-align: middle;\n",
              "    }\n",
              "\n",
              "    .dataframe tbody tr th {\n",
              "        vertical-align: top;\n",
              "    }\n",
              "\n",
              "    .dataframe thead th {\n",
              "        text-align: right;\n",
              "    }\n",
              "</style>\n",
              "<table border=\"1\" class=\"dataframe\">\n",
              "  <thead>\n",
              "    <tr style=\"text-align: right;\">\n",
              "      <th></th>\n",
              "      <th>id</th>\n",
              "      <th>data</th>\n",
              "      <th>preco_medio</th>\n",
              "      <th>volume_total</th>\n",
              "      <th>tipo</th>\n",
              "      <th>ano</th>\n",
              "    </tr>\n",
              "  </thead>\n",
              "  <tbody>\n",
              "    <tr>\n",
              "      <th>0</th>\n",
              "      <td>1</td>\n",
              "      <td>01/01/2017</td>\n",
              "      <td>2.06</td>\n",
              "      <td>39260.55</td>\n",
              "      <td>Orgânico</td>\n",
              "      <td>2017</td>\n",
              "    </tr>\n",
              "    <tr>\n",
              "      <th>1</th>\n",
              "      <td>2</td>\n",
              "      <td>08/01/2017</td>\n",
              "      <td>2.15</td>\n",
              "      <td>42755.80</td>\n",
              "      <td>Orgânico</td>\n",
              "      <td>2017</td>\n",
              "    </tr>\n",
              "    <tr>\n",
              "      <th>2</th>\n",
              "      <td>3</td>\n",
              "      <td>15/01/2017</td>\n",
              "      <td>2.09</td>\n",
              "      <td>42233.25</td>\n",
              "      <td>Orgânico</td>\n",
              "      <td>2017</td>\n",
              "    </tr>\n",
              "    <tr>\n",
              "      <th>3</th>\n",
              "      <td>4</td>\n",
              "      <td>22/01/2017</td>\n",
              "      <td>2.05</td>\n",
              "      <td>49056.11</td>\n",
              "      <td>Orgânico</td>\n",
              "      <td>2017</td>\n",
              "    </tr>\n",
              "    <tr>\n",
              "      <th>4</th>\n",
              "      <td>5</td>\n",
              "      <td>29/01/2017</td>\n",
              "      <td>2.08</td>\n",
              "      <td>46602.16</td>\n",
              "      <td>Convencional</td>\n",
              "      <td>2017</td>\n",
              "    </tr>\n",
              "  </tbody>\n",
              "</table>\n",
              "</div>"
            ],
            "text/plain": [
              "   id        data  preco_medio  volume_total          tipo   ano\n",
              "0   1  01/01/2017         2.06      39260.55      Orgânico  2017\n",
              "1   2  08/01/2017         2.15      42755.80      Orgânico  2017\n",
              "2   3  15/01/2017         2.09      42233.25      Orgânico  2017\n",
              "3   4  22/01/2017         2.05      49056.11      Orgânico  2017\n",
              "4   5  29/01/2017         2.08      46602.16  Convencional  2017"
            ]
          },
          "metadata": {
            "tags": []
          },
          "execution_count": 67
        }
      ]
    },
    {
      "cell_type": "code",
      "metadata": {
        "id": "T6_-6h4TD40o",
        "colab_type": "code",
        "colab": {}
      },
      "source": [
        "hoje = datetime.now().date()"
      ],
      "execution_count": null,
      "outputs": []
    },
    {
      "cell_type": "code",
      "metadata": {
        "id": "5aE3VE-MERHm",
        "colab_type": "code",
        "colab": {
          "base_uri": "https://localhost:8080/",
          "height": 279
        },
        "outputId": "c1fde9c8-ac69-4c9e-e187-23309438aa40"
      },
      "source": [
        "# path github (Não funciona com o path github, precisa salvar na pasta de arquivos do Colab): 'https://raw.githubusercontent.com/casbjr/Semana-Python-Sigmoidal/master/Semana%20Python/modelo_de_relatorio.pug'\n",
        "html = pug_to_html('/content/modelo_de_relatorio.pug',\n",
        "                   planilha=planilha,\n",
        "                   hoje=hoje)"
      ],
      "execution_count": null,
      "outputs": [
        {
          "output_type": "display_data",
          "data": {
            "image/png": "[encoded data removed]",
            "text/plain": [
              "<Figure size 432x288 with 1 Axes>"
            ]
          },
          "metadata": {
            "tags": [],
            "needs_background": "light"
          }
        }
      ]
    },
    {
      "cell_type": "code",
      "metadata": {
        "id": "K6hM-YBkKO8x",
        "colab_type": "code",
        "colab": {}
      },
      "source": [
        "write_report(html,'controle_abacates_relatorio.pdf')"
      ],
      "execution_count": null,
      "outputs": []
    }
  ]
}